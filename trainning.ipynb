{
 "cells": [
  {
   "cell_type": "code",
   "execution_count": 240,
   "metadata": {},
   "outputs": [],
   "source": [
    "#imports\n",
    "import pandas as pd\n",
    "import numpy as np"
   ]
  },
  {
   "cell_type": "code",
   "execution_count": 241,
   "metadata": {},
   "outputs": [],
   "source": [
    "#reading data\n",
    "data = pd.read_csv(\"data.csv\")"
   ]
  },
  {
   "cell_type": "code",
   "execution_count": 242,
   "metadata": {},
   "outputs": [],
   "source": [
    "#preparing and splitting data\n",
    "from sklearn.preprocessing import scale\n",
    "from sklearn.utils import shuffle\n",
    "\n",
    "data = shuffle(data)\n",
    "X = scale(data[data.columns[:-1]])\n",
    "y = data[\"activity\"].to_numpy()\n",
    "X_training, X_testing = np.split(X, [1000])\n",
    "y_training, y_testing = np.split(y, [1000])"
   ]
  },
  {
   "cell_type": "code",
   "execution_count": 243,
   "metadata": {},
   "outputs": [],
   "source": [
    "#training models\n",
    "from sklearn.svm import SVC\n",
    "from sklearn.ensemble import RandomForestClassifier\n",
    "\n",
    "SVC_model = SVC().fit(X_training, y_training)\n",
    "forest_model = RandomForestClassifier().fit(X_training, y_training)"
   ]
  },
  {
   "cell_type": "code",
   "execution_count": 244,
   "metadata": {},
   "outputs": [
    {
     "name": "stdout",
     "output_type": "stream",
     "text": [
      "100.0\n",
      "100.0\n"
     ]
    }
   ],
   "source": [
    "#testing\n",
    "SVC_predictions = SVC_model.predict(X_testing)\n",
    "cmp = np.array([SVC_predictions==y_testing], dtype=int)\n",
    "SVC_accuracy = (np.sum(cmp) / len(y_testing)) * 100\n",
    "print(SVC_accuracy)\n",
    "#accuracy 100%. Something is wrong here, but I can't figure out what exactly.\n",
    "#or the algoritm is extremely accurate.\n",
    "\n",
    "forest_predictions = forest_model.predict(X_testing)\n",
    "cmp = np.array([forest_predictions==y_testing], dtype=int)\n",
    "forest_accuracy = (np.sum(cmp) / len(y_testing)) * 100\n",
    "print(forest_accuracy)\n",
    "#accuracy is equaly insane. Maybe thousands of elements of training data is a lot of data"
   ]
  }
 ],
 "metadata": {
  "kernelspec": {
   "display_name": "Python 3",
   "language": "python",
   "name": "python3"
  },
  "language_info": {
   "codemirror_mode": {
    "name": "ipython",
    "version": 3
   },
   "file_extension": ".py",
   "mimetype": "text/x-python",
   "name": "python",
   "nbconvert_exporter": "python",
   "pygments_lexer": "ipython3",
   "version": "3.11.1"
  }
 },
 "nbformat": 4,
 "nbformat_minor": 2
}
